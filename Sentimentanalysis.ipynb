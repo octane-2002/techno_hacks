{
  "nbformat": 4,
  "nbformat_minor": 0,
  "metadata": {
    "colab": {
      "provenance": [],
      "include_colab_link": true
    },
    "kernelspec": {
      "name": "python3",
      "display_name": "Python 3"
    },
    "language_info": {
      "name": "python"
    }
  },
  "cells": [
    {
      "cell_type": "markdown",
      "metadata": {
        "id": "view-in-github",
        "colab_type": "text"
      },
      "source": [
        "<a href=\"https://colab.research.google.com/github/octane-2002/techno_hacks/blob/main/Sentimentanalysis.ipynb\" target=\"_parent\"><img src=\"https://colab.research.google.com/assets/colab-badge.svg\" alt=\"Open In Colab\"/></a>"
      ]
    },
    {
      "cell_type": "code",
      "execution_count": null,
      "metadata": {
        "colab": {
          "base_uri": "https://localhost:8080/"
        },
        "id": "FjhNzQsq-5UQ",
        "outputId": "19a805b6-29da-43ff-9150-47d6cf824b43"
      },
      "outputs": [
        {
          "output_type": "stream",
          "name": "stdout",
          "text": [
            "Requirement already satisfied: nltk in /usr/local/lib/python3.10/dist-packages (3.8.1)\n",
            "Requirement already satisfied: click in /usr/local/lib/python3.10/dist-packages (from nltk) (8.1.7)\n",
            "Requirement already satisfied: joblib in /usr/local/lib/python3.10/dist-packages (from nltk) (1.3.2)\n",
            "Requirement already satisfied: regex>=2021.8.3 in /usr/local/lib/python3.10/dist-packages (from nltk) (2023.6.3)\n",
            "Requirement already satisfied: tqdm in /usr/local/lib/python3.10/dist-packages (from nltk) (4.66.1)\n",
            "Collecting vaderSentiment\n",
            "  Downloading vaderSentiment-3.3.2-py2.py3-none-any.whl (125 kB)\n",
            "\u001b[2K     \u001b[90m━━━━━━━━━━━━━━━━━━━━━━━━━━━━━━━━━━━━━━━\u001b[0m \u001b[32m126.0/126.0 kB\u001b[0m \u001b[31m2.3 MB/s\u001b[0m eta \u001b[36m0:00:00\u001b[0m\n",
            "\u001b[?25hRequirement already satisfied: requests in /usr/local/lib/python3.10/dist-packages (from vaderSentiment) (2.31.0)\n",
            "Requirement already satisfied: charset-normalizer<4,>=2 in /usr/local/lib/python3.10/dist-packages (from requests->vaderSentiment) (3.2.0)\n",
            "Requirement already satisfied: idna<4,>=2.5 in /usr/local/lib/python3.10/dist-packages (from requests->vaderSentiment) (3.4)\n",
            "Requirement already satisfied: urllib3<3,>=1.21.1 in /usr/local/lib/python3.10/dist-packages (from requests->vaderSentiment) (2.0.4)\n",
            "Requirement already satisfied: certifi>=2017.4.17 in /usr/local/lib/python3.10/dist-packages (from requests->vaderSentiment) (2023.7.22)\n",
            "Installing collected packages: vaderSentiment\n",
            "Successfully installed vaderSentiment-3.3.2\n"
          ]
        }
      ],
      "source": [
        "!pip install nltk\n",
        "!pip install vaderSentiment\n"
      ]
    },
    {
      "cell_type": "code",
      "source": [
        "import nltk\n",
        "from nltk.sentiment.vader import SentimentIntensityAnalyzer\n"
      ],
      "metadata": {
        "id": "SBAgADYRAhvI"
      },
      "execution_count": null,
      "outputs": []
    },
    {
      "cell_type": "code",
      "source": [
        "nltk.download('vader_lexicon')\n"
      ],
      "metadata": {
        "colab": {
          "base_uri": "https://localhost:8080/"
        },
        "id": "sqoWt4AIAm7W",
        "outputId": "91a0863a-b46a-473b-a812-560357428283"
      },
      "execution_count": null,
      "outputs": [
        {
          "output_type": "stream",
          "name": "stderr",
          "text": [
            "[nltk_data] Downloading package vader_lexicon to /root/nltk_data...\n"
          ]
        },
        {
          "output_type": "execute_result",
          "data": {
            "text/plain": [
              "True"
            ]
          },
          "metadata": {},
          "execution_count": 7
        }
      ]
    },
    {
      "cell_type": "code",
      "source": [
        "import pandas as pd\n",
        "data=pd.read_csv(\"Tweets.csv\")"
      ],
      "metadata": {
        "id": "mOrjJCJ0AqXs"
      },
      "execution_count": null,
      "outputs": []
    },
    {
      "cell_type": "code",
      "source": [
        "data.head()\n",
        "sia = SentimentIntensityAnalyzer()\n"
      ],
      "metadata": {
        "id": "fGZcmUoZBIE0"
      },
      "execution_count": null,
      "outputs": []
    },
    {
      "cell_type": "code",
      "source": [
        "def classify_sentiment(compound_score):\n",
        "    if compound_score > 0.05:\n",
        "        return 'positive'\n",
        "    elif compound_score < -0.05:\n",
        "        return 'negative'\n",
        "    else:\n",
        "        return 'neutral'\n"
      ],
      "metadata": {
        "id": "-JuBgsEFBeOy"
      },
      "execution_count": null,
      "outputs": []
    },
    {
      "cell_type": "code",
      "source": [
        "data['sentiment_scores'] = data['text'].apply(lambda x: sia.polarity_scores(x))\n",
        "data['compound_score'] = data['sentiment_scores'].apply(lambda x: x['compound'])\n",
        "data['sentiment'] = data['compound_score'].apply(classify_sentiment)"
      ],
      "metadata": {
        "id": "wYda7CuOBkQ1"
      },
      "execution_count": null,
      "outputs": []
    },
    {
      "cell_type": "code",
      "source": [
        "print(data[['text', 'sentiment']])"
      ],
      "metadata": {
        "colab": {
          "base_uri": "https://localhost:8080/"
        },
        "id": "RTtABlXHB47M",
        "outputId": "657335d9-e7e2-4d0b-ba95-618a25e071b9"
      },
      "execution_count": null,
      "outputs": [
        {
          "output_type": "stream",
          "name": "stdout",
          "text": [
            "                                                    text sentiment\n",
            "0                    @VirginAmerica What @dhepburn said.   neutral\n",
            "1      @VirginAmerica plus you've added commercials t...   neutral\n",
            "2      @VirginAmerica I didn't today... Must mean I n...   neutral\n",
            "3      @VirginAmerica it's really aggressive to blast...  negative\n",
            "4      @VirginAmerica and it's a really big bad thing...  negative\n",
            "...                                                  ...       ...\n",
            "14635  @AmericanAir thank you we got on a different f...  positive\n",
            "14636  @AmericanAir leaving over 20 minutes Late Flig...  negative\n",
            "14637  @AmericanAir Please bring American Airlines to...  positive\n",
            "14638  @AmericanAir you have my money, you change my ...  positive\n",
            "14639  @AmericanAir we have 8 ppl so we need 2 know h...  positive\n",
            "\n",
            "[14640 rows x 2 columns]\n"
          ]
        }
      ]
    },
    {
      "cell_type": "code",
      "source": [
        "while True:\n",
        "    user_input = input(\"Enter a text: \")\n",
        "\n",
        "    sentiment_scores = sia.polarity_scores(user_input)\n",
        "    compound_score = sentiment_scores['compound']\n",
        "    sentiment = classify_sentiment(compound_score)\n",
        "\n",
        "    print(f\"Predicted sentiment: {sentiment}\")\n",
        "\n",
        "    continue_prompt = input(\"Do you want to continue? (yes/no): \")\n",
        "    if continue_prompt.lower() != 'yes':\n",
        "        break"
      ],
      "metadata": {
        "colab": {
          "base_uri": "https://localhost:8080/"
        },
        "id": "I3gM8smFB6hN",
        "outputId": "b2fee196-7933-4114-a4b1-ff401d8b18d4"
      },
      "execution_count": null,
      "outputs": [
        {
          "name": "stdout",
          "output_type": "stream",
          "text": [
            "Enter a text: Hello\n",
            "Predicted sentiment: neutral\n",
            "Do you want to continue? (yes/no): no\n"
          ]
        }
      ]
    }
  ]
}